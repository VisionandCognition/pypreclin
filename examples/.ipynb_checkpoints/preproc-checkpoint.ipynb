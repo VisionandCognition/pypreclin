{
  "cells": [
    {
      "outputs": [],
      "execution_count": null,
      "cell_type": "code",
      "source": [
        "%matplotlib inline"
      ],
      "metadata": {
        "collapsed": false
      }
    },
    {
      "metadata": {},
      "cell_type": "markdown",
      "source": [
        "\npypreclin preprocessing\n=======================\n\nCredit: A Grigis & J Tasserie\n\nWORK IN PROGRESS\n\nThe preprocessing and analysis of nonhuman primate (NHP) magnetic resonance\nimaging (MRI) data presents some unique challenges.\n\n1. non standard orientation, sphinx position.\n2. strong intensity bias.\n3. non brain tissues.\n\nOver the years, we have created our own custom solution that solves these\nproblems.\n\nThis example shows how to preprocess a functional timeserie without\nfielmap or reverse phase encoded images. One can inpsect the called function to\napply only a single step.\n\nFirst checks\n------------\n\nIn order to test if the 'pypreclin' package is installed on your machine, you\ncan try to import it.\n\n"
      ]
    },
    {
      "outputs": [],
      "execution_count": null,
      "cell_type": "code",
      "source": [
        "from pypreclin.workflow.preproc_fmri import prepoc\nfrom pprint import pprint"
      ],
      "metadata": {
        "collapsed": false
      }
    },
    {
      "metadata": {},
      "cell_type": "markdown",
      "source": [
        "Load a test dataset\n-------------------\n\nNow load a toy single run dataset with 10 volumes.\n\n"
      ]
    },
    {
      "outputs": [],
      "execution_count": null,
      "cell_type": "code",
      "source": [
        "rootdir = \"/tmp\"\nfuncfile = os.path.join(rootdir, \"\")\nanatfile = \"\"\nsid = \"\"\ntr = \"\"\noutdir = \"\"\ntemplate = \"\"\njipdir = \"\""
      ],
      "metadata": {
        "collapsed": false
      }
    },
    {
      "metadata": {},
      "cell_type": "markdown",
      "source": [
        "Run\n---\n\nFinally run all the prepocessing steps. In order to avoid the installation\nof all dependencies, please use the provided container.\n\n"
      ]
    },
    {
      "outputs": [],
      "execution_count": null,
      "cell_type": "code",
      "source": [
        "outputs = preproc(\n        funcfile=funcfile,\n        anatfile=anatfile,\n        sid=sid,\n        outdir=outdir,\n        repetitiontime=tr,\n        template=template,\n        jipdir=\"/jip/bin\",\n        erase=False,\n        resample=False,\n        interleaved=False,\n        sliceorder=\"ascending\",\n        realign_dof=6,\n        realign_to_vol=True,\n        warp=False,\n        warp_njobs=1,\n        warp_index=8,\n        warp_file=None,\n        warp_restrict=[0, 1, 0],\n        anatorient=\"RAS\",\n        funcorient=\"RAS\",\n        kernel_size=3,\n        fslconfig=\"/etc/fsl/5.0.11/fsl.sh\",\n        normalization_trf=None,\n        coregistration_trf=None,\n        recon1=False,\n        recon2=False,\n        auto=True,\n        verbose=2)\npprint(outputs)"
      ],
      "metadata": {
        "collapsed": false
      }
    }
  ],
  "metadata": {
    "kernelspec": {
      "display_name": "Python 3",
      "language": "python",
      "name": "python3"
    },
    "language_info": {
      "version": "3.5.2",
      "pygments_lexer": "ipython3",
      "nbconvert_exporter": "python",
      "file_extension": ".py",
      "mimetype": "text/x-python",
      "codemirror_mode": {
        "version": 3,
        "name": "ipython"
      },
      "name": "python"
    }
  },
  "nbformat_minor": 0,
  "nbformat": 4
}