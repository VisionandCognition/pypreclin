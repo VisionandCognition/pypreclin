{
 "cells": [
  {
   "cell_type": "code",
   "execution_count": null,
   "metadata": {
    "collapsed": false,
    "jupyter": {
     "outputs_hidden": false
    }
   },
   "outputs": [],
   "source": [
    "%matplotlib inline"
   ]
  },
  {
   "cell_type": "markdown",
   "metadata": {},
   "source": [
    "\n",
    "pypreclin preprocessing\n",
    "=======================\n",
    "\n",
    "Credit: A Grigis & J Tasserie\n",
    "\n",
    "WORK IN PROGRESS\n",
    "\n",
    "The preprocessing and analysis of nonhuman primate (NHP) magnetic resonance\n",
    "imaging (MRI) data presents some unique challenges.\n",
    "\n",
    "1. non standard orientation, sphinx position.\n",
    "2. strong intensity bias.\n",
    "3. non brain tissues.\n",
    "\n",
    "Over the years, we have created our own custom solution that solves these\n",
    "problems.\n",
    "\n",
    "This example shows how to preprocess a functional timeserie without\n",
    "fielmap or reverse phase encoded images. One can inpsect the called function to\n",
    "apply only a single step.\n",
    "\n",
    "First checks\n",
    "------------\n",
    "\n",
    "In order to test if the 'pypreclin' package is installed on your machine, you\n",
    "can try to import it.\n",
    "\n"
   ]
  },
  {
   "cell_type": "code",
   "execution_count": 2,
   "metadata": {
    "collapsed": false,
    "jupyter": {
     "outputs_hidden": false
    }
   },
   "outputs": [
    {
     "ename": "ModuleNotFoundError",
     "evalue": "No module named 'pypreclin'",
     "output_type": "error",
     "traceback": [
      "\u001b[0;31m---------------------------------------------------------------------------\u001b[0m",
      "\u001b[0;31mModuleNotFoundError\u001b[0m                       Traceback (most recent call last)",
      "\u001b[0;32m<ipython-input-2-ad4b0fc447b6>\u001b[0m in \u001b[0;36m<module>\u001b[0;34m\u001b[0m\n\u001b[0;32m----> 1\u001b[0;31m \u001b[0;32mfrom\u001b[0m \u001b[0mpypreclin\u001b[0m\u001b[0;34m.\u001b[0m\u001b[0mworkflow\u001b[0m\u001b[0;34m.\u001b[0m\u001b[0mpreproc_fmri\u001b[0m \u001b[0;32mimport\u001b[0m \u001b[0mprepoc\u001b[0m\u001b[0;34m\u001b[0m\u001b[0;34m\u001b[0m\u001b[0m\n\u001b[0m\u001b[1;32m      2\u001b[0m \u001b[0;32mfrom\u001b[0m \u001b[0mpprint\u001b[0m \u001b[0;32mimport\u001b[0m \u001b[0mpprint\u001b[0m\u001b[0;34m\u001b[0m\u001b[0;34m\u001b[0m\u001b[0m\n",
      "\u001b[0;31mModuleNotFoundError\u001b[0m: No module named 'pypreclin'"
     ]
    }
   ],
   "source": [
    "from pypreclin.workflow.preproc_fmri import prepoc\n",
    "from pprint import pprint"
   ]
  },
  {
   "cell_type": "code",
   "execution_count": null,
   "metadata": {},
   "outputs": [],
   "source": [
    "Load a test dataset\n",
    "-------------------\n",
    "\n",
    "Now load a toy single run dataset with 10 volumes.\n",
    "\n"
   ]
  },
  {
   "cell_type": "code",
   "execution_count": null,
   "metadata": {
    "collapsed": false,
    "jupyter": {
     "outputs_hidden": false
    }
   },
   "outputs": [],
   "source": [
    "rootdir = \"/tmp\"\n",
    "funcfile = os.path.join(rootdir, \"\")\n",
    "anatfile = \"\"\n",
    "sid = \"\"\n",
    "tr = \"\"\n",
    "outdir = \"\"\n",
    "template = \"\"\n",
    "jipdir = \"\""
   ]
  },
  {
   "cell_type": "markdown",
   "metadata": {},
   "source": [
    "Run\n",
    "---\n",
    "\n",
    "Finally run all the prepocessing steps. In order to avoid the installation\n",
    "of all dependencies, please use the provided container.\n",
    "\n"
   ]
  },
  {
   "cell_type": "code",
   "execution_count": null,
   "metadata": {
    "collapsed": false,
    "jupyter": {
     "outputs_hidden": false
    }
   },
   "outputs": [],
   "source": [
    "outputs = preproc(\n",
    "        funcfile=funcfile,\n",
    "        anatfile=anatfile,\n",
    "        sid=sid,\n",
    "        outdir=outdir,\n",
    "        repetitiontime=tr,\n",
    "        template=template,\n",
    "        jipdir=\"/jip/bin\",\n",
    "        erase=False,\n",
    "        resample=False,\n",
    "        interleaved=False,\n",
    "        sliceorder=\"ascending\",\n",
    "        realign_dof=6,\n",
    "        realign_to_vol=True,\n",
    "        warp=False,\n",
    "        warp_njobs=1,\n",
    "        warp_index=8,\n",
    "        warp_file=None,\n",
    "        warp_restrict=[0, 1, 0],\n",
    "        anatorient=\"RAS\",\n",
    "        funcorient=\"RAS\",\n",
    "        kernel_size=3,\n",
    "        fslconfig=\"/etc/fsl/5.0.11/fsl.sh\",\n",
    "        normalization_trf=None,\n",
    "        coregistration_trf=None,\n",
    "        recon1=False,\n",
    "        recon2=False,\n",
    "        auto=True,\n",
    "        verbose=2)\n",
    "pprint(outputs)"
   ]
  }
 ],
 "metadata": {
  "kernelspec": {
   "display_name": "Python 3",
   "language": "python",
   "name": "python3"
  },
  "language_info": {
   "codemirror_mode": {
    "name": "ipython",
    "version": 3
   },
   "file_extension": ".py",
   "mimetype": "text/x-python",
   "name": "python",
   "nbconvert_exporter": "python",
   "pygments_lexer": "ipython3",
   "version": "3.7.3"
  }
 },
 "nbformat": 4,
 "nbformat_minor": 4
}
