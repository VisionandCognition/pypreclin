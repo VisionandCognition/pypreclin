{
 "cells": [
  {
   "cell_type": "code",
   "execution_count": 1,
   "metadata": {
    "collapsed": false,
    "jupyter": {
     "outputs_hidden": false
    }
   },
   "outputs": [],
   "source": [
    "%matplotlib inline"
   ]
  },
  {
   "cell_type": "markdown",
   "metadata": {},
   "source": [
    "\n",
    "pypreclin preprocessing\n",
    "=======================\n",
    "\n",
    "Credit: A Grigis & J Tasserie\n",
    "\n",
    "WORK IN PROGRESS\n",
    "\n",
    "The preprocessing and analysis of nonhuman primate (NHP) magnetic resonance\n",
    "imaging (MRI) data presents some unique challenges.\n",
    "\n",
    "1. non standard orientation, sphinx position.\n",
    "2. strong intensity bias.\n",
    "3. non brain tissues.\n",
    "\n",
    "Over the years, we have created our own custom solution that solves these\n",
    "problems.\n",
    "\n",
    "This example shows how to preprocess a functional timeserie without\n",
    "fielmap or reverse phase encoded images. One can inpsect the called function to\n",
    "apply only a single step.\n",
    "\n",
    "First checks\n",
    "------------\n",
    "\n",
    "In order to test if the 'pypreclin' package is installed on your machine, you\n",
    "can try to import it.\n",
    "\n"
   ]
  },
  {
   "cell_type": "code",
   "execution_count": 2,
   "metadata": {
    "collapsed": false,
    "jupyter": {
     "outputs_hidden": false
    }
   },
   "outputs": [
    {
     "name": "stderr",
     "output_type": "stream",
     "text": [
      "/home/chris/anaconda3/lib/python3.7/site-packages/dicom/__init__.py:53: UserWarning: \n",
      "This code is using an older version of pydicom, which is no longer \n",
      "maintained as of Jan 2017.  You can access the new pydicom features and API \n",
      "by installing `pydicom` from PyPI.\n",
      "See 'Transitioning to pydicom 1.x' section at pydicom.readthedocs.org \n",
      "for more information.\n",
      "\n",
      "  warnings.warn(msg)\n"
     ]
    },
    {
     "name": "stdout",
     "output_type": "stream",
     "text": [
      "\n",
      "                 '||'''|,               .|'''', '||`      \n",
      "                  ||   ||               ||       ||   ''  \n",
      "'||''|, '||  ||`  ||...|' '||''| .|''|, ||       ||   ||  `||''|,\n",
      " ||  ||  `|..||   ||       ||    ||..|| ||       ||   ||   ||  ||\n",
      " ||..|'      ||  .||      .||.   `|...  `|....' .||. .||. .||  ||.\n",
      " ||       ,  |'                                 \n",
      ".||        '' \n",
      "''\n",
      "\n",
      "Package version: 1.0.0\n",
      "\n",
      "License: CeCILL-B\n",
      "\n",
      "Authors: \n",
      "\n",
      "Antoine Grigis <antoine.grigis@cea.fr>\n",
      "Jordy Tasserie <jordy.tasserie@cea.fr>\n",
      "Bechir Jarraya <bechir.jarraya@cea.fr>\n",
      "\n",
      "Dependencies: \n",
      "\n",
      "numpy          : >=1.11.0  - required | 1.18.1    installed\n",
      "scipy          : >=0.17.0  - required | 1.3.2     installed\n",
      "hopla          : >=1.0.5   - required | 1.0.5     installed\n",
      "pyconnectome   : >=1.0.0   - required | 1.0.1     installed\n",
      "pyconnectomist : >=2.0.0   - required | 2.0.0     installed\n",
      "nipype         : >=1.0.1   - required | 1.4.0     installed\n",
      "matplotlib     : ==3.0.3   - required | 3.0.3     installed\n",
      "nibabel        : >=1.1.0   - required | 3.0.0     installed\n",
      "joblib         : >=0.13.2  - required | 0.14.1    installed\n",
      "transforms3d   : >=0.3.1   - required | 0.3.1     installed\n",
      "filelock       : >=3.0.12  - required | 3.0.12    installed\n",
      "\n"
     ]
    }
   ],
   "source": [
    "from pypreclin.workflow.preproc_fmri import preproc\n",
    "from pprint import pprint\n",
    "import os"
   ]
  },
  {
   "cell_type": "markdown",
   "metadata": {},
   "source": [
    "Load a test dataset\n",
    "-------------------\n",
    "\n",
    "Now load a toy single run dataset with 10 volumes.\n",
    "\n"
   ]
  },
  {
   "cell_type": "markdown",
   "metadata": {},
   "source": [
    "The variables in the next cell determine the setup    \n",
    "rootdir = where are all files (this is a folder)    \n",
    "funcfile = functional file to process    \n",
    "anatfile = anatomical file    \n",
    "sid = \"\" subject id ???-this is  guess-???    \n",
    "tr = the tr of the epi    \n",
    "outdir = the folder where we want the output    \n",
    "template = the template file    \n",
    "jipdir = the folder where jip is installed    "
   ]
  },
  {
   "cell_type": "code",
   "execution_count": 3,
   "metadata": {
    "collapsed": false,
    "jupyter": {
     "outputs_hidden": false
    }
   },
   "outputs": [],
   "source": [
    "rootdir = \"../testdata\"\n",
    "funcfile = os.path.join(rootdir, \"sub-danny_ses-20191219_run-01.nii.gz\")\n",
    "anatfile = os.path.join(rootdir, \"sub-danny_ref_anat_res-0.5x0.5x0.5.nii.gz\")\n",
    "sid = \"danny\"\n",
    "tr = \"2.5\"\n",
    "outdir = \"../testdata/output\"\n",
    "template = \"/media/DATA1/NHP_MRI/Template/NMT/NMT.nii.gz\"\n",
    "jipdir = \"/opt/jip\""
   ]
  },
  {
   "cell_type": "code",
   "execution_count": 3,
   "metadata": {
    "collapsed": false,
    "jupyter": {
     "outputs_hidden": false
    }
   },
   "outputs": [],
   "source": [
    "rootdir = \"$RT/testdata\"\n",
    "funcfile = os.path.join(rootdir, \"sub-danny_ses-20191219_run-01.nii.gz\")\n",
    "anatfile = os.path.join(rootdir, \"sub-danny_ref_anat_res-0.5x0.5x0.5.nii.gz\")\n",
    "sid = \"danny\"\n",
    "tr = \"2.5\"\n",
    "outdir = \"$RT/testdata/output\"\n",
    "template = os.path.join(rootdir, \"NMT.nii.gz\")\n",
    "jipdir = \"/opt/jip\""
   ]
  },
  {
   "cell_type": "markdown",
   "metadata": {},
   "source": [
    "Run\n",
    "---\n",
    "\n",
    "Finally run all the prepocessing steps. In order to avoid the installation\n",
    "of all dependencies, please use the provided container.\n",
    "\n"
   ]
  },
  {
   "cell_type": "code",
   "execution_count": 7,
   "metadata": {
    "collapsed": false,
    "jupyter": {
     "outputs_hidden": false
    }
   },
   "outputs": [
    {
     "ename": "KeyError",
     "evalue": "'FSLDIR'",
     "output_type": "error",
     "traceback": [
      "\u001b[0;31m---------------------------------------------------------------------------\u001b[0m",
      "\u001b[0;31mKeyError\u001b[0m                                  Traceback (most recent call last)",
      "\u001b[0;32m<ipython-input-7-765afbc3e32e>\u001b[0m in \u001b[0;36m<module>\u001b[0;34m\u001b[0m\n\u001b[1;32m     35\u001b[0m         \u001b[0mrecon2\u001b[0m\u001b[0;34m=\u001b[0m\u001b[0;32mFalse\u001b[0m\u001b[0;34m,\u001b[0m\u001b[0;34m\u001b[0m\u001b[0;34m\u001b[0m\u001b[0m\n\u001b[1;32m     36\u001b[0m         \u001b[0mauto\u001b[0m\u001b[0;34m=\u001b[0m\u001b[0;32mTrue\u001b[0m\u001b[0;34m,\u001b[0m\u001b[0;34m\u001b[0m\u001b[0;34m\u001b[0m\u001b[0m\n\u001b[0;32m---> 37\u001b[0;31m         verbose=2)\n\u001b[0m\u001b[1;32m     38\u001b[0m \u001b[0mpprint\u001b[0m\u001b[0;34m(\u001b[0m\u001b[0moutputs\u001b[0m\u001b[0;34m)\u001b[0m\u001b[0;34m\u001b[0m\u001b[0;34m\u001b[0m\u001b[0m\n",
      "\u001b[0;32m~/anaconda3/lib/python3.7/site-packages/pypreclin/workflow/preproc_fmri.py\u001b[0m in \u001b[0;36mpreproc\u001b[0;34m(funcfile, anatfile, sid, outdir, repetitiontime, template, jipdir, erase, resample, interleaved, sliceorder, realign_dof, realign_to_vol, warp, warp_njobs, warp_index, warp_file, warp_restrict, delta_te, dwell_time, manufacturer, blip_files, blip_enc_dirs, unwarp_direction, phase_file, magnitude_file, anatorient, funcorient, kernel_size, fslconfig, normalization_trf, coregistration_trf, recon1, recon2, auto, verbose)\u001b[0m\n\u001b[1;32m    184\u001b[0m     \u001b[0;31m# Slice timing\u001b[0m\u001b[0;34m\u001b[0m\u001b[0;34m\u001b[0m\u001b[0;34m\u001b[0m\u001b[0m\n\u001b[1;32m    185\u001b[0m     \u001b[0mfslenv\u001b[0m \u001b[0;34m=\u001b[0m \u001b[0menvironment\u001b[0m\u001b[0;34m(\u001b[0m\u001b[0mfslconfig\u001b[0m\u001b[0;34m)\u001b[0m\u001b[0;34m\u001b[0m\u001b[0;34m\u001b[0m\u001b[0m\n\u001b[0;32m--> 186\u001b[0;31m     \u001b[0;32mif\u001b[0m \u001b[0;34m(\u001b[0m\u001b[0mfslenv\u001b[0m\u001b[0;34m[\u001b[0m\u001b[0;34m\"FSLDIR\"\u001b[0m\u001b[0;34m]\u001b[0m \u001b[0;34m!=\u001b[0m \u001b[0mos\u001b[0m\u001b[0;34m.\u001b[0m\u001b[0menviron\u001b[0m\u001b[0;34m.\u001b[0m\u001b[0mget\u001b[0m\u001b[0;34m(\u001b[0m\u001b[0;34m\"FSLDIR\"\u001b[0m\u001b[0;34m,\u001b[0m \u001b[0;34m\"\"\u001b[0m\u001b[0;34m)\u001b[0m\u001b[0;34m)\u001b[0m\u001b[0;34m:\u001b[0m\u001b[0;34m\u001b[0m\u001b[0;34m\u001b[0m\u001b[0m\n\u001b[0m\u001b[1;32m    187\u001b[0m         \u001b[0mos\u001b[0m\u001b[0;34m.\u001b[0m\u001b[0menviron\u001b[0m \u001b[0;34m=\u001b[0m \u001b[0mconcat_environment\u001b[0m\u001b[0;34m(\u001b[0m\u001b[0mos\u001b[0m\u001b[0;34m.\u001b[0m\u001b[0menviron\u001b[0m\u001b[0;34m,\u001b[0m \u001b[0mfslenv\u001b[0m\u001b[0;34m)\u001b[0m\u001b[0;34m\u001b[0m\u001b[0;34m\u001b[0m\u001b[0m\n\u001b[1;32m    188\u001b[0m     \u001b[0mst_dir\u001b[0m \u001b[0;34m=\u001b[0m \u001b[0mos\u001b[0m\u001b[0;34m.\u001b[0m\u001b[0mpath\u001b[0m\u001b[0;34m.\u001b[0m\u001b[0mjoin\u001b[0m\u001b[0;34m(\u001b[0m\u001b[0msubjdir\u001b[0m\u001b[0;34m,\u001b[0m \u001b[0mSTEPS\u001b[0m\u001b[0;34m[\u001b[0m\u001b[0;34m\"slice_timing\"\u001b[0m\u001b[0;34m]\u001b[0m\u001b[0;34m)\u001b[0m\u001b[0;34m\u001b[0m\u001b[0;34m\u001b[0m\u001b[0m\n",
      "\u001b[0;31mKeyError\u001b[0m: 'FSLDIR'"
     ]
    }
   ],
   "source": [
    "outputs = preproc(\n",
    "        funcfile=funcfile,\n",
    "        anatfile=anatfile,\n",
    "        sid=sid,\n",
    "        outdir=outdir,\n",
    "        repetitiontime=tr,\n",
    "        template=template,\n",
    "        jipdir=jipdir,\n",
    "        erase=False,\n",
    "        resample=False,\n",
    "        interleaved=False,\n",
    "        sliceorder=\"ascending\",\n",
    "        realign_dof=6,\n",
    "        realign_to_vol=True,\n",
    "        warp=False,\n",
    "        warp_njobs=1,\n",
    "        warp_index=8,\n",
    "        warp_file=None,\n",
    "        warp_restrict=[0, 1, 0],\n",
    "        delta_te=None,\n",
    "        dwell_time=None,\n",
    "        manufacturer=None,\n",
    "        blip_files=None,\n",
    "        blip_enc_dirs=None,\n",
    "        unwarp_direction=None,\n",
    "        phase_file=None,\n",
    "        magnitude_file=None,\n",
    "        anatorient=\"RAS\",\n",
    "        funcorient=\"RAS\",\n",
    "        kernel_size=3,\n",
    "        fslconfig=\"/etc/fsl/5.0.11/fsl.sh\",\n",
    "        normalization_trf=None,\n",
    "        coregistration_trf=None,\n",
    "        recon1=False,\n",
    "        recon2=False,\n",
    "        auto=True,\n",
    "        verbose=2)\n",
    "pprint(outputs)"
   ]
  },
  {
   "cell_type": "code",
   "execution_count": 9,
   "metadata": {},
   "outputs": [
    {
     "ename": "NameError",
     "evalue": "name 'environment' is not defined",
     "output_type": "error",
     "traceback": [
      "\u001b[0;31m---------------------------------------------------------------------------\u001b[0m",
      "\u001b[0;31mNameError\u001b[0m                                 Traceback (most recent call last)",
      "\u001b[0;32m<ipython-input-9-23c05e584ea3>\u001b[0m in \u001b[0;36m<module>\u001b[0;34m\u001b[0m\n\u001b[0;32m----> 1\u001b[0;31m \u001b[0menvironment\u001b[0m\u001b[0;34m(\u001b[0m\u001b[0mfslconfig\u001b[0m\u001b[0;34m)\u001b[0m\u001b[0;34m\u001b[0m\u001b[0;34m\u001b[0m\u001b[0m\n\u001b[0m",
      "\u001b[0;31mNameError\u001b[0m: name 'environment' is not defined"
     ]
    }
   ],
   "source": [
    "environment(fslconfig)"
   ]
  },
  {
   "cell_type": "code",
   "execution_count": null,
   "metadata": {},
   "outputs": [],
   "source": []
  }
 ],
 "metadata": {
  "kernelspec": {
   "display_name": "Python 3",
   "language": "python",
   "name": "python3"
  },
  "language_info": {
   "codemirror_mode": {
    "name": "ipython",
    "version": 3
   },
   "file_extension": ".py",
   "mimetype": "text/x-python",
   "name": "python",
   "nbconvert_exporter": "python",
   "pygments_lexer": "ipython3",
   "version": "3.7.3"
  }
 },
 "nbformat": 4,
 "nbformat_minor": 4
}
